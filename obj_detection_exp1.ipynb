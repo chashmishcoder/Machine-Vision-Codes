{
 "cells": [
  {
   "cell_type": "markdown",
   "id": "0f4ebf17-d761-4db5-8d8a-7c0e63179d37",
   "metadata": {},
   "source": [
    "# Name : Omkar Thorve\n",
    "# PRN: 24070149016"
   ]
  },
  {
   "cell_type": "markdown",
   "id": "37220b20-daf1-4c37-9294-b47328011b4f",
   "metadata": {},
   "source": [
    "# Pip install OpenCV"
   ]
  },
  {
   "cell_type": "code",
   "execution_count": 1,
   "id": "5bacc644-c6f4-44b5-8f6b-09c5c51fb43b",
   "metadata": {},
   "outputs": [
    {
     "name": "stdout",
     "output_type": "stream",
     "text": [
      "Requirement already satisfied: opencv-contrib-python in /opt/anaconda3/envs/MVlabs/lib/python3.9/site-packages (4.10.0.84)\n",
      "Requirement already satisfied: numpy>=1.21.0 in /opt/anaconda3/envs/MVlabs/lib/python3.9/site-packages (from opencv-contrib-python) (1.26.4)\n",
      "Note: you may need to restart the kernel to use updated packages.\n"
     ]
    }
   ],
   "source": [
    "pip install opencv-contrib-python --upgrade "
   ]
  },
  {
   "cell_type": "code",
   "execution_count": 1,
   "id": "ad15b6da-acf9-4c98-9622-78ed7055b608",
   "metadata": {},
   "outputs": [],
   "source": [
    "import cv2"
   ]
  },
  {
   "cell_type": "markdown",
   "id": "19ba4192-3ca2-4df2-a5ea-bff801a2f8c4",
   "metadata": {},
   "source": [
    "# Class Code for video "
   ]
  },
  {
   "cell_type": "code",
   "execution_count": 3,
   "id": "916c2724-4152-4e29-8da4-75e78150f807",
   "metadata": {},
   "outputs": [
    {
     "name": "stderr",
     "output_type": "stream",
     "text": [
      "[ WARN:0@4.523] global cap.cpp:645 open VIDEOIO(CV_IMAGES): raised OpenCV exception:\n",
      "\n",
      "OpenCV(4.10.0) /Users/runner/miniforge3/conda-bld/libopencv_1735821636510/work/modules/videoio/src/cap_images.cpp:430: error: (-215:Assertion failed) !filename_pattern.empty() in function 'open'\n",
      "\n",
      "\n"
     ]
    }
   ],
   "source": [
    "# class code\n",
    "cam = cv2.VideoCapture(0)\n",
    "\n",
    "frame_width = int(cam.get(cv2.CAP_PROP_FRAME_WIDTH))\n",
    "frame_height = int(cam.get(cv2.CAP_PROP_FRAME_HEIGHT))\n",
    "\n",
    "fourcc = cv2.VideoWriter_fourcc(*'mp4v')\n",
    "out = cv2.VideoWriter('Documents/SEM 2/Machine Vision',fourcc,20.0,(frame_width,frame_height))\n",
    "\n",
    "while True:\n",
    "    ret, frame = cam.read()\n",
    "    out.write(frame)\n",
    "    cv2.imshow('Camera',frame)\n",
    "    if cv2.waitKey(1) == ord('q'):\n",
    "        break\n",
    "cam.release()\n",
    "out.release()\n",
    "cv2.destroyAllWindows()"
   ]
  },
  {
   "cell_type": "markdown",
   "id": "7bb6f0ff-f1b5-4778-a5ce-35a117a2b90e",
   "metadata": {},
   "source": [
    "# Code for object detection in an image"
   ]
  },
  {
   "cell_type": "code",
   "execution_count": null,
   "id": "af7e0520-b1f2-4c00-a3c7-e11bfc7c09e6",
   "metadata": {},
   "outputs": [],
   "source": [
    "# image object detection\n",
    "import numpy as np\n",
    "def detect_objects_in_image(image_path):\n",
    "    \n",
    "    image = cv2.imread(image_path)\n",
    "    output_image = image.copy()\n",
    "    \n",
    "    face_cascade = cv2.CascadeClassifier(cv2.data.haarcascades + 'haarcascade_frontalface_default.xml')\n",
    "    gray = cv2.cvtColor(image, cv2.COLOR_BGR2GRAY)\n",
    "    faces = face_cascade.detectMultiScale(gray, 1.1, 4)\n",
    "    \n",
    "    for (x, y, w, h) in faces:\n",
    "        cv2.rectangle(output_image, (x, y), (x+w, y+h), (255, 0, 0), 2)\n",
    "        cv2.putText(output_image, 'Face', (x, y-10), cv2.FONT_HERSHEY_SIMPLEX, 0.9, (255, 0, 0), 2)\n",
    "    \n",
    "    gray = cv2.cvtColor(image, cv2.COLOR_BGR2GRAY) if len(image.shape) == 3 else image\n",
    "    _, binary = cv2.threshold(gray, 180, 255, cv2.THRESH_BINARY_INV)\n",
    "    \n",
    "    contours, _ = cv2.findContours(binary, cv2.RETR_EXTERNAL, cv2.CHAIN_APPROX_SIMPLE)\n",
    "    \n",
    "    \n",
    "    for contour in contours:\n",
    "        area = cv2.contourArea(contour)\n",
    "        if area > 500:  \n",
    "            x, y, w, h = cv2.boundingRect(contour)\n",
    "            aspect_ratio = w/h\n",
    "            if 0.5 <= aspect_ratio <= 15:  \n",
    "                cv2.rectangle(output_image, (x, y), (x+w, y+h), (0, 255, 0), 2)\n",
    "                cv2.putText(output_image, 'Text', (x, y-10), cv2.FONT_HERSHEY_SIMPLEX, 0.9, (0, 255, 0), 2)\n",
    "    \n",
    "\n",
    "    cv2.imshow('Result', output_image)\n",
    "    cv2.waitKey(0)\n",
    "    cv2.destroyAllWindows()\n",
    "    \n",
    "    \n",
    "    cv2.imwrite('Documents/SEM 2/Machine Vision/Screenshot 2025-01-08 at 12.16.28 PM.png', output_image)\n",
    "\n",
    "\n",
    "detect_objects_in_image('Documents/SEM 2/Machine Vision/Screenshot 2025-01-08 at 12.16.28 PM.png')"
   ]
  },
  {
   "cell_type": "markdown",
   "id": "24239269-258a-4a26-9723-d76ff8971dcf",
   "metadata": {},
   "source": [
    "# Code for object detection from Web Cam video"
   ]
  },
  {
   "cell_type": "code",
   "execution_count": null,
   "id": "171108e1-f5e1-46e8-a8a1-8dde14fbbbf0",
   "metadata": {},
   "outputs": [],
   "source": [
    "# webcam video object detect\n",
    "import numpy as np\n",
    "import time\n",
    "\n",
    "def process_video_detection(video_source=0):\n",
    "  \n",
    "    # Initialize video capture\n",
    "    cap = cv2.VideoCapture(video_source)\n",
    "    \n",
    "    # Check if video opened successfully\n",
    "    if not cap.isOpened():\n",
    "        print(\"Error: Could not open video source\")\n",
    "        return\n",
    "    \n",
    "    # Load the pre-trained face detection classifier\n",
    "    face_cascade = cv2.CascadeClassifier(cv2.data.haarcascades + 'haarcascade_frontalface_default.xml')\n",
    "    \n",
    "    # frame dimension and FPS\n",
    "    frame_width = int(cap.get(cv2.CAP_PROP_FRAME_WIDTH))\n",
    "    frame_height = int(cap.get(cv2.CAP_PROP_FRAME_HEIGHT))\n",
    "    fps = int(cap.get(cv2.CAP_PROP_FPS))\n",
    "    \n",
    "    # saves processed video\n",
    "    output_video = cv2.VideoWriter('detected_output.avi', \n",
    "                                 cv2.VideoWriter_fourcc(*'XVID'),\n",
    "                                 fps, (frame_width, frame_height))\n",
    "    \n",
    "    # FPS calculation variables\n",
    "    start_time = time.time()\n",
    "    frame_count = 0\n",
    "    fps_display = 0\n",
    "    \n",
    "    while True:\n",
    "        # Read frame from video\n",
    "        ret, frame = cap.read()\n",
    "        \n",
    "        if not ret:\n",
    "            print(\"End of video stream\")\n",
    "            break\n",
    "            \n",
    "        # Create a copy for drawing\n",
    "        output_frame = frame.copy()\n",
    "        \n",
    "        # Convert to grayscale for detection\n",
    "        gray = cv2.cvtColor(frame, cv2.COLOR_BGR2GRAY)\n",
    "        \n",
    "        # Face Detection\n",
    "        faces = face_cascade.detectMultiScale(gray, \n",
    "                                            scaleFactor=1.1,\n",
    "                                            minNeighbors=5,\n",
    "                                            minSize=(30, 30))\n",
    "        \n",
    "        # Draw rectangles around faces\n",
    "        for (x, y, w, h) in faces:\n",
    "            cv2.rectangle(output_frame, (x, y), (x+w, y+h), (255, 0, 0), 2)\n",
    "            cv2.putText(output_frame, 'Face', (x, y-10),\n",
    "                       cv2.FONT_HERSHEY_SIMPLEX, 0.9, (255, 0, 0), 2)\n",
    "        \n",
    "        # Text Region Detection\n",
    "        # Apply threshold to get text regions\n",
    "        _, binary = cv2.threshold(gray, 180, 255, cv2.THRESH_BINARY_INV)\n",
    "        \n",
    "        # Find contours in the binary image\n",
    "        contours, _ = cv2.findContours(binary, \n",
    "                                     cv2.RETR_EXTERNAL,\n",
    "                                     cv2.CHAIN_APPROX_SIMPLE)\n",
    "        \n",
    "        # Process each contour for text detection\n",
    "        for contour in contours:\n",
    "            area = cv2.contourArea(contour)\n",
    "            if area > 500:  # Filter small contours\n",
    "                x, y, w, h = cv2.boundingRect(contour)\n",
    "                aspect_ratio = w/h\n",
    "                # Filter based on aspect ratio to reduce false positives\n",
    "                if 0.5 <= aspect_ratio <= 15:\n",
    "                    cv2.rectangle(output_frame, (x, y), (x+w, y+h),\n",
    "                                (0, 255, 0), 2)\n",
    "                    cv2.putText(output_frame, 'Text', (x, y-10),\n",
    "                              cv2.FONT_HERSHEY_SIMPLEX, 0.9, (0, 255, 0), 2)\n",
    "        \n",
    "        # Calculate and display FPS\n",
    "        frame_count += 1\n",
    "        if frame_count % 30 == 0:  # Update FPS every 30 frames\n",
    "            end_time = time.time()\n",
    "            fps_display = frame_count / (end_time - start_time)\n",
    "        \n",
    "        # Display FPS on frame\n",
    "        cv2.putText(output_frame, f'FPS: {fps_display:.2f}',\n",
    "                    (10, 30), cv2.FONT_HERSHEY_SIMPLEX,\n",
    "                    1, (0, 0, 255), 2)\n",
    "        \n",
    "        # Write frame to output video\n",
    "        output_video.write(output_frame)\n",
    "        \n",
    "        # Display the processed frame\n",
    "        cv2.imshow('Video Detection', output_frame)\n",
    "        \n",
    "        # Break loop on 'q' key press\n",
    "        if cv2.waitKey(1) & 0xFF == ord('q'):\n",
    "            break\n",
    "    \n",
    "    # Clean up\n",
    "    cap.release()\n",
    "    output_video.release()\n",
    "    cv2.destroyAllWindows()\n",
    "\n",
    "def main():\n",
    "    # Video source \n",
    "    video_source = 0\n",
    "    process_video_detection(0)\n",
    "\n",
    "if __name__ == \"__main__\":\n",
    "    main()\n"
   ]
  }
 ],
 "metadata": {
  "kernelspec": {
   "display_name": "Python (MVlabs)",
   "language": "python",
   "name": "mvlabs"
  },
  "language_info": {
   "codemirror_mode": {
    "name": "ipython",
    "version": 3
   },
   "file_extension": ".py",
   "mimetype": "text/x-python",
   "name": "python",
   "nbconvert_exporter": "python",
   "pygments_lexer": "ipython3",
   "version": "3.9.18"
  }
 },
 "nbformat": 4,
 "nbformat_minor": 5
}
